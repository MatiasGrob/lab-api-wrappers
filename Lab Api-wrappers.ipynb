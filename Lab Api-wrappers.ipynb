{
 "cells": [
  {
   "cell_type": "code",
   "execution_count": 1,
   "id": "eea949fe",
   "metadata": {},
   "outputs": [],
   "source": [
    "import spotipy\n",
    "from spotipy.oauth2 import SpotifyClientCredentials\n",
    "import pandas as pd\n",
    "from sklearn.preprocessing import StandardScaler\n",
    "\n",
    "from sklearn.cluster import KMeans\n",
    "from sklearn.metrics import silhouette_score\n",
    "from sklearn import datasets\n",
    "from matplotlib import pyplot as plt\n",
    "import numpy as np\n",
    "from sklearn.cluster import KMeans\n",
    "import sklearn\n",
    "from sklearn.metrics import pairwise_distances_argmin_min"
   ]
  },
  {
   "cell_type": "code",
   "execution_count": 2,
   "id": "ac5da129",
   "metadata": {},
   "outputs": [],
   "source": [
    "secrets_file = open(\"secrets.txt\",\"r\")"
   ]
  },
  {
   "cell_type": "code",
   "execution_count": 3,
   "id": "41f41ba8",
   "metadata": {},
   "outputs": [],
   "source": [
    "string = secrets_file.read()"
   ]
  },
  {
   "cell_type": "code",
   "execution_count": 4,
   "id": "653788ae",
   "metadata": {},
   "outputs": [
    {
     "data": {
      "text/plain": [
       "'clientid:30ba48f11c4347f0aa53053cf58e318a\\nclientsecret:74c98bc24a4c41fa9f0d89b6f86d216b'"
      ]
     },
     "execution_count": 4,
     "metadata": {},
     "output_type": "execute_result"
    }
   ],
   "source": [
    "string"
   ]
  },
  {
   "cell_type": "code",
   "execution_count": 5,
   "id": "75b64306",
   "metadata": {},
   "outputs": [
    {
     "data": {
      "text/plain": [
       "['clientid:30ba48f11c4347f0aa53053cf58e318a',\n",
       " 'clientsecret:74c98bc24a4c41fa9f0d89b6f86d216b']"
      ]
     },
     "execution_count": 5,
     "metadata": {},
     "output_type": "execute_result"
    }
   ],
   "source": [
    "string.split('\\n')"
   ]
  },
  {
   "cell_type": "code",
   "execution_count": 6,
   "id": "66e4963c",
   "metadata": {},
   "outputs": [],
   "source": [
    "secrets_dict={}\n",
    "for line in string.split('\\n'):\n",
    "    if len(line) > 0:\n",
    "        secrets_dict[line.split(':')[0]]=line.split(':')[1]"
   ]
  },
  {
   "cell_type": "code",
   "execution_count": 7,
   "id": "4842f010",
   "metadata": {},
   "outputs": [
    {
     "data": {
      "text/plain": [
       "{'clientid': '30ba48f11c4347f0aa53053cf58e318a',\n",
       " 'clientsecret': '74c98bc24a4c41fa9f0d89b6f86d216b'}"
      ]
     },
     "execution_count": 7,
     "metadata": {},
     "output_type": "execute_result"
    }
   ],
   "source": [
    "secrets_dict"
   ]
  },
  {
   "cell_type": "code",
   "execution_count": 8,
   "id": "309033b4",
   "metadata": {},
   "outputs": [],
   "source": [
    "import spotipy\n",
    "from spotipy.oauth2 import SpotifyClientCredentials\n",
    "\n",
    "#Initialize SpotiPy with user credentials\n",
    "sp = spotipy.Spotify(auth_manager=SpotifyClientCredentials(client_id=secrets_dict['clientid'],\n",
    "                                                           client_secret=secrets_dict['clientsecret']))"
   ]
  },
  {
   "cell_type": "code",
   "execution_count": 9,
   "id": "0aee1d36",
   "metadata": {},
   "outputs": [],
   "source": [
    "fifties_playlist = \"37i9dQZF1DWSV3Tk4GO2fq\"\n",
    "sixties_playlist = \"3SbE5Sk5MWtNc0GRTU0X6d\"\n",
    "seventies_playlist = \"37i9dQZF1DX1Hya1sRqqxI\"\n",
    "eighties_playlist = \"37i9dQZF1DXb57FjYWz00c\"\n",
    "nineties_playlist = \"37i9dQZF1DXbTxeAdrVG2l\"\n",
    "twenties_playlist = \"37i9dQZF1DX4o1oenSJRJd\"\n",
    "twenty_tens_playlist = \"37i9dQZF1DX5Ejj0EkURtP\"\n",
    "twenty_twenties_playlist = \"4vSTV61efRmetmaoz95Vet\""
   ]
  },
  {
   "cell_type": "code",
   "execution_count": 10,
   "id": "0189436c",
   "metadata": {},
   "outputs": [],
   "source": [
    "#code to pass the 1050 limit for the tracks got from the api\n",
    "\n",
    "def get_all_tracks(playlist):\n",
    "    results = sp.user_playlist_tracks(\"spotify\", playlist)\n",
    "    tracks = results['items']\n",
    "    for oset in range(1050,results['total'],1050):\n",
    "        results = sp.user_playlist_tracks(\"spotify\", playlist, offset=oset)\n",
    "        tracks += results['items']\n",
    "    return tracks\n",
    "\n",
    "all_tracks_50s = get_all_tracks(fifties_playlist)\n",
    "all_tracks_60s = get_all_tracks(sixties_playlist)\n",
    "all_tracks_70s = get_all_tracks(seventies_playlist)\n",
    "all_tracks_80s = get_all_tracks(eighties_playlist)\n",
    "all_tracks_90s = get_all_tracks(nineties_playlist)\n",
    "all_tracks_2000s = get_all_tracks(twenties_playlist)\n",
    "all_tracks_2010s = get_all_tracks(twenty_tens_playlist)\n",
    "all_tracks_2020s = get_all_tracks(twenty_twenties_playlist)"
   ]
  },
  {
   "cell_type": "code",
   "execution_count": 11,
   "id": "c70a5046",
   "metadata": {},
   "outputs": [],
   "source": [
    "# Getting all the artists\n",
    "def get_artists_from_playlist(playlist_id, tracks):\n",
    "    tracks_from_playlist = tracks\n",
    "    artists = []\n",
    "    for track in tracks_from_playlist:\n",
    "        artist_info = track['track']['artists'][0]\n",
    "        artists.append(artist_info['name'])\n",
    "    return artists\n",
    "\n",
    "\n",
    "all_artists_50s = get_artists_from_playlist(fifties_playlist,all_tracks_50s)\n",
    "all_artists_60s = get_artists_from_playlist(sixties_playlist,all_tracks_60s)\n",
    "all_artists_70s = get_artists_from_playlist(seventies_playlist,all_tracks_70s)\n",
    "all_artists_80s = get_artists_from_playlist(eighties_playlist,all_tracks_80s)\n",
    "all_artists_90s = get_artists_from_playlist(nineties_playlist,all_tracks_90s)\n",
    "all_artists_2000s = get_artists_from_playlist(twenties_playlist,all_tracks_2000s)\n",
    "all_artists_2010s = get_artists_from_playlist(twenty_tens_playlist,all_tracks_2010s)\n",
    "all_artists_2020s = get_artists_from_playlist(twenty_twenties_playlist,all_tracks_2020s)\n",
    "\n"
   ]
  },
  {
   "cell_type": "code",
   "execution_count": 12,
   "id": "48c7f0ff",
   "metadata": {},
   "outputs": [],
   "source": [
    "#get song names & track ids\n",
    "def get_song_names(tracks):\n",
    "    song_actual_names = [track['track']['name'] for track in tracks]\n",
    "    track_ids = [track['track']['id'] for track in tracks]\n",
    "    return song_actual_names,track_ids\n",
    "\n",
    "all_song_names_50s,id_track_50s = get_song_names(all_tracks_50s)\n",
    "all_song_names_60s,id_track_60s = get_song_names(all_tracks_60s)\n",
    "all_song_names_70s,id_track_70s = get_song_names(all_tracks_70s)\n",
    "all_song_names_80s,id_track_80s = get_song_names(all_tracks_80s)\n",
    "all_song_names_90s,id_track_90s = get_song_names(all_tracks_90s)\n",
    "all_song_names_2000s,id_track_2000s = get_song_names(all_tracks_2000s)\n",
    "all_song_names_2010s,id_track_2010s = get_song_names(all_tracks_2010s)\n",
    "all_song_names_2020s,id_track_2020s = get_song_names(all_tracks_2020s)"
   ]
  },
  {
   "cell_type": "code",
   "execution_count": 13,
   "id": "0956169b",
   "metadata": {},
   "outputs": [],
   "source": [
    "#get all genres and popularity\n",
    "\n",
    "def get_pop_and_genre(tracks):\n",
    "    genre = []\n",
    "    popularity = []\n",
    "    for elem in tracks:\n",
    "        artist01 = sp.artist(elem['track'][\"album\"][\"artists\"][0][\"external_urls\"][\"spotify\"])\n",
    "        genre.append(artist01[\"genres\"][0] if artist01[\"genres\"] else \"genreless\")\n",
    "        popularity.append(artist01[\"popularity\"])\n",
    "    return genre,popularity\n",
    "\n",
    "genre_50s,popularity_50s = get_pop_and_genre(all_tracks_50s)\n",
    "genre_60s,popularity_60s = get_pop_and_genre(all_tracks_60s)\n",
    "genre_70s,popularity_70s = get_pop_and_genre(all_tracks_70s)\n",
    "genre_80s,popularity_80s = get_pop_and_genre(all_tracks_80s)\n",
    "genre_90s,popularity_90s = get_pop_and_genre(all_tracks_90s)\n",
    "genre_2000s,popularity_2000s = get_pop_and_genre(all_tracks_2000s)\n",
    "genre_2010s,popularity_2010s = get_pop_and_genre(all_tracks_2010s)\n",
    "genre_2020s,popularity_2020s = get_pop_and_genre(all_tracks_2020s)"
   ]
  },
  {
   "cell_type": "code",
   "execution_count": null,
   "id": "70dbf08f",
   "metadata": {},
   "outputs": [],
   "source": []
  },
  {
   "cell_type": "code",
   "execution_count": 14,
   "id": "ac1c90a9",
   "metadata": {},
   "outputs": [],
   "source": [
    "#gathering main features and turning them into a dataframe\n",
    "def main_features_to_df(track_ids):\n",
    "    the_list = []\n",
    "    for i in track_ids:\n",
    "        the_list.append(sp.audio_features(i))\n",
    "    converted = [i for elem in the_list for i in elem]\n",
    "    df = pd.json_normalize(converted)\n",
    "    return df\n",
    "\n",
    "df_50s = main_features_to_df(id_track_50s)\n",
    "df_60s = main_features_to_df(id_track_60s)\n",
    "df_70s = main_features_to_df(id_track_70s)\n",
    "df_80s = main_features_to_df(id_track_80s)\n",
    "df_90s = main_features_to_df(id_track_90s)\n",
    "df_2000s = main_features_to_df(id_track_2000s)\n",
    "df_2010s = main_features_to_df(id_track_2010s)\n",
    "df_2020s = main_features_to_df(id_track_2020s)"
   ]
  },
  {
   "cell_type": "code",
   "execution_count": 15,
   "id": "9d076474",
   "metadata": {},
   "outputs": [],
   "source": [
    "# adding previous single gathered features to the current df\n",
    "def add_features_to_df(song_actual_names,artist_list,genre,popularity,features_df):\n",
    "    \n",
    "    df_song_name = pd.DataFrame(song_actual_names, columns = [\"song_name\"])\n",
    "    df_artists = pd.DataFrame(artist_list,columns = [\"artists\"])\n",
    "    df_genre = pd.DataFrame(genre,columns = [\"genre\"])\n",
    "    df_popularity = pd.DataFrame(popularity,columns = [\"popularity\"])\n",
    "    final_boss_df = pd.concat([features_df, df_song_name,df_artists,df_genre,df_popularity], axis=1)\n",
    "    \n",
    "    return final_boss_df\n",
    "\n",
    "final_df_50s = add_features_to_df(all_song_names_50s,all_artists_50s,genre_50s,popularity_50s,df_50s)\n",
    "final_df_60s = add_features_to_df(all_song_names_60s,all_artists_60s,genre_60s,popularity_60s,df_60s)\n",
    "final_df_70s = add_features_to_df(all_song_names_70s,all_artists_70s,genre_70s,popularity_70s,df_70s)\n",
    "final_df_80s = add_features_to_df(all_song_names_80s,all_artists_80s,genre_80s,popularity_80s,df_80s)\n",
    "final_df_90s = add_features_to_df(all_song_names_90s,all_artists_90s,genre_90s,popularity_90s,df_90s)\n",
    "final_df_2000s = add_features_to_df(all_song_names_2000s,all_artists_2000s,genre_2000s,popularity_2000s,df_2000s)\n",
    "final_df_2010s = add_features_to_df(all_song_names_2010s,all_artists_2010s,genre_2010s,popularity_2010s,df_2010s)\n",
    "final_df_2020s = add_features_to_df(all_song_names_2020s,all_artists_2020s,genre_2020s,popularity_2020s,df_2020s)"
   ]
  },
  {
   "cell_type": "code",
   "execution_count": 16,
   "id": "1a2ada13",
   "metadata": {},
   "outputs": [],
   "source": [
    "#Treating the dataframe:\n",
    "scaler = StandardScaler()\n",
    "def scaling_df(current_df):\n",
    "    df_to_scale = current_df[['danceability', 'energy', 'key', 'loudness', 'mode', 'speechiness', 'acousticness', 'instrumentalness', 'liveness', 'valence', 'tempo','popularity']]\n",
    "    scaled_df02 = scaler.fit_transform(df_to_scale)\n",
    "    scaled_df01 = pd.DataFrame(scaled_df02)\n",
    "    scaled_df = scaled_df01.copy()\n",
    "    scaled_df.columns = df_to_scale.columns\n",
    "    scaled_df[\"song_name\"] = current_df[\"song_name\"]\n",
    "    scaled_df[\"artists\"] = current_df[\"artists\"]\n",
    "    scaled_df[\"genre\"] = current_df[\"genre\"]\n",
    "    scaled_df\n",
    "    return scaled_df01,scaled_df\n",
    "\n",
    "df_to_scale_50s,scaled_df_50s = scaling_df(final_df_50s)\n",
    "df_to_scale_60s,scaled_df_60s = scaling_df(final_df_60s)\n",
    "df_to_scale_70s,scaled_df_70s = scaling_df(final_df_70s)\n",
    "df_to_scale_80s,scaled_df_80s = scaling_df(final_df_80s)\n",
    "df_to_scale_90s,scaled_df_90s = scaling_df(final_df_90s)\n",
    "df_to_scale_2000s,scaled_df_2000s = scaling_df(final_df_2000s)\n",
    "df_to_scale_2010s,scaled_df_2010s = scaling_df(final_df_2010s)\n",
    "df_to_scale_2020s,scaled_df_2020s = scaling_df(final_df_2020s)"
   ]
  },
  {
   "cell_type": "code",
   "execution_count": 17,
   "id": "0d00df5c",
   "metadata": {},
   "outputs": [
    {
     "data": {
      "text/html": [
       "<div>\n",
       "<style scoped>\n",
       "    .dataframe tbody tr th:only-of-type {\n",
       "        vertical-align: middle;\n",
       "    }\n",
       "\n",
       "    .dataframe tbody tr th {\n",
       "        vertical-align: top;\n",
       "    }\n",
       "\n",
       "    .dataframe thead th {\n",
       "        text-align: right;\n",
       "    }\n",
       "</style>\n",
       "<table border=\"1\" class=\"dataframe\">\n",
       "  <thead>\n",
       "    <tr style=\"text-align: right;\">\n",
       "      <th></th>\n",
       "      <th>danceability</th>\n",
       "      <th>energy</th>\n",
       "      <th>key</th>\n",
       "      <th>loudness</th>\n",
       "      <th>mode</th>\n",
       "      <th>speechiness</th>\n",
       "      <th>acousticness</th>\n",
       "      <th>instrumentalness</th>\n",
       "      <th>liveness</th>\n",
       "      <th>valence</th>\n",
       "      <th>tempo</th>\n",
       "      <th>popularity</th>\n",
       "      <th>song_name</th>\n",
       "      <th>artists</th>\n",
       "      <th>genre</th>\n",
       "    </tr>\n",
       "  </thead>\n",
       "  <tbody>\n",
       "    <tr>\n",
       "      <th>0</th>\n",
       "      <td>0.602031</td>\n",
       "      <td>0.052400</td>\n",
       "      <td>1.490470</td>\n",
       "      <td>-0.238877</td>\n",
       "      <td>0.51558</td>\n",
       "      <td>1.505372</td>\n",
       "      <td>0.825760</td>\n",
       "      <td>-0.181090</td>\n",
       "      <td>-0.386575</td>\n",
       "      <td>1.211074</td>\n",
       "      <td>-1.363127</td>\n",
       "      <td>1.755064</td>\n",
       "      <td>All Shook Up</td>\n",
       "      <td>Elvis Presley</td>\n",
       "      <td>rock-and-roll</td>\n",
       "    </tr>\n",
       "    <tr>\n",
       "      <th>1</th>\n",
       "      <td>0.310364</td>\n",
       "      <td>-0.821901</td>\n",
       "      <td>-1.176375</td>\n",
       "      <td>-0.338655</td>\n",
       "      <td>0.51558</td>\n",
       "      <td>-0.507625</td>\n",
       "      <td>-1.174755</td>\n",
       "      <td>-0.181065</td>\n",
       "      <td>-0.613190</td>\n",
       "      <td>-0.149747</td>\n",
       "      <td>0.159780</td>\n",
       "      <td>1.842034</td>\n",
       "      <td>I've Got You Under My Skin - Remastered 1998</td>\n",
       "      <td>Frank Sinatra</td>\n",
       "      <td>adult standards</td>\n",
       "    </tr>\n",
       "    <tr>\n",
       "      <th>2</th>\n",
       "      <td>-2.546477</td>\n",
       "      <td>-0.632008</td>\n",
       "      <td>-0.583743</td>\n",
       "      <td>-0.015596</td>\n",
       "      <td>0.51558</td>\n",
       "      <td>-0.676105</td>\n",
       "      <td>1.007625</td>\n",
       "      <td>-0.181134</td>\n",
       "      <td>-0.208958</td>\n",
       "      <td>-1.303240</td>\n",
       "      <td>1.425887</td>\n",
       "      <td>-0.071316</td>\n",
       "      <td>Smoke Gets In Your Eyes</td>\n",
       "      <td>The Platters</td>\n",
       "      <td>adult standards</td>\n",
       "    </tr>\n",
       "    <tr>\n",
       "      <th>3</th>\n",
       "      <td>-0.026175</td>\n",
       "      <td>0.895053</td>\n",
       "      <td>-0.287427</td>\n",
       "      <td>1.251583</td>\n",
       "      <td>0.51558</td>\n",
       "      <td>-0.271317</td>\n",
       "      <td>0.485346</td>\n",
       "      <td>-0.181155</td>\n",
       "      <td>-0.276330</td>\n",
       "      <td>0.615479</td>\n",
       "      <td>-0.953866</td>\n",
       "      <td>0.450507</td>\n",
       "      <td>What'd I Say, Pt. 1 &amp; 2</td>\n",
       "      <td>Ray Charles</td>\n",
       "      <td>adult standards</td>\n",
       "    </tr>\n",
       "    <tr>\n",
       "      <th>4</th>\n",
       "      <td>-0.616988</td>\n",
       "      <td>-1.067180</td>\n",
       "      <td>-0.880059</td>\n",
       "      <td>-1.552620</td>\n",
       "      <td>0.51558</td>\n",
       "      <td>-0.284445</td>\n",
       "      <td>-0.465947</td>\n",
       "      <td>-0.181155</td>\n",
       "      <td>-0.527444</td>\n",
       "      <td>-0.850890</td>\n",
       "      <td>-0.749206</td>\n",
       "      <td>0.972330</td>\n",
       "      <td>Dream A Little Dream Of Me</td>\n",
       "      <td>Louis Armstrong</td>\n",
       "      <td>adult standards</td>\n",
       "    </tr>\n",
       "  </tbody>\n",
       "</table>\n",
       "</div>"
      ],
      "text/plain": [
       "   danceability    energy       key  loudness     mode  speechiness  \\\n",
       "0      0.602031  0.052400  1.490470 -0.238877  0.51558     1.505372   \n",
       "1      0.310364 -0.821901 -1.176375 -0.338655  0.51558    -0.507625   \n",
       "2     -2.546477 -0.632008 -0.583743 -0.015596  0.51558    -0.676105   \n",
       "3     -0.026175  0.895053 -0.287427  1.251583  0.51558    -0.271317   \n",
       "4     -0.616988 -1.067180 -0.880059 -1.552620  0.51558    -0.284445   \n",
       "\n",
       "   acousticness  instrumentalness  liveness   valence     tempo  popularity  \\\n",
       "0      0.825760         -0.181090 -0.386575  1.211074 -1.363127    1.755064   \n",
       "1     -1.174755         -0.181065 -0.613190 -0.149747  0.159780    1.842034   \n",
       "2      1.007625         -0.181134 -0.208958 -1.303240  1.425887   -0.071316   \n",
       "3      0.485346         -0.181155 -0.276330  0.615479 -0.953866    0.450507   \n",
       "4     -0.465947         -0.181155 -0.527444 -0.850890 -0.749206    0.972330   \n",
       "\n",
       "                                      song_name          artists  \\\n",
       "0                                  All Shook Up    Elvis Presley   \n",
       "1  I've Got You Under My Skin - Remastered 1998    Frank Sinatra   \n",
       "2                       Smoke Gets In Your Eyes     The Platters   \n",
       "3                       What'd I Say, Pt. 1 & 2      Ray Charles   \n",
       "4                    Dream A Little Dream Of Me  Louis Armstrong   \n",
       "\n",
       "             genre  \n",
       "0    rock-and-roll  \n",
       "1  adult standards  \n",
       "2  adult standards  \n",
       "3  adult standards  \n",
       "4  adult standards  "
      ]
     },
     "execution_count": 17,
     "metadata": {},
     "output_type": "execute_result"
    }
   ],
   "source": [
    "scaled_complete_frames = [scaled_df_50s,scaled_df_60s,scaled_df_70s,scaled_df_80s,scaled_df_90s,scaled_df_2000s,scaled_df_2010s,scaled_df_2020s]\n",
    "\n",
    "all_frames = pd.concat(scaled_complete_frames)\n",
    "all_frames.head()"
   ]
  },
  {
   "cell_type": "code",
   "execution_count": null,
   "id": "98310284",
   "metadata": {},
   "outputs": [],
   "source": []
  },
  {
   "cell_type": "code",
   "execution_count": null,
   "id": "3512d558",
   "metadata": {},
   "outputs": [],
   "source": []
  }
 ],
 "metadata": {
  "kernelspec": {
   "display_name": "Python 3 (ipykernel)",
   "language": "python",
   "name": "python3"
  },
  "language_info": {
   "codemirror_mode": {
    "name": "ipython",
    "version": 3
   },
   "file_extension": ".py",
   "mimetype": "text/x-python",
   "name": "python",
   "nbconvert_exporter": "python",
   "pygments_lexer": "ipython3",
   "version": "3.9.13"
  }
 },
 "nbformat": 4,
 "nbformat_minor": 5
}
